{
 "cells": [
  {
   "cell_type": "markdown",
   "metadata": {},
   "source": [
    "# 2021-1117 Zoho Email ZZbkp parsing \n",
    "\n",
    "    - backedup emails as .eml from zoho through 4 folders [ inbox, sent, business, operations ] \n",
    "    - rename these files by reading and parsing the files into a list and using the list features in rename "
   ]
  },
  {
   "cell_type": "markdown",
   "metadata": {},
   "source": [
    "## Import and Ufunc"
   ]
  },
  {
   "cell_type": "code",
   "execution_count": 358,
   "metadata": {
    "ExecuteTime": {
     "end_time": "2021-11-17T12:16:44.709846Z",
     "start_time": "2021-11-17T12:16:44.697941Z"
    }
   },
   "outputs": [],
   "source": [
    "import os\n",
    "import pandas as pd \n",
    "import numpy as np \n",
    "\n",
    "## email pkg provides the core to parsing a message \n",
    "import email\n",
    "\n",
    "## progress tracing pkg \n",
    "from tqdm import tqdm\n",
    "\n",
    "## key library used for parsing a date like string into a python datetime value \n",
    "from dateutil import parser"
   ]
  },
  {
   "cell_type": "code",
   "execution_count": 421,
   "metadata": {
    "ExecuteTime": {
     "end_time": "2021-11-17T16:40:06.995366Z",
     "start_time": "2021-11-17T16:40:06.971906Z"
    }
   },
   "outputs": [],
   "source": [
    "def convert_date_2_string(dstr):\n",
    "    dt_str = \"\"\n",
    "    try:\n",
    "        dt_str = parser.parse(dstr)\n",
    "\n",
    "    except:\n",
    "        for sx in [0,4]:\n",
    "            for ex in range(12,18):\n",
    "                try:\n",
    "                    dt_str = parser.parse(dstr[sx,ex])\n",
    "                except:\n",
    "                    dt_str = dt_str\n",
    "    return dt_str\n",
    "    \n",
    "## EOF :: ufunc to generate date from string, badly named !! \n",
    "## Ref :: https://stackoverflow.com/questions/466345/converting-string-into-datetime \n"
   ]
  },
  {
   "cell_type": "markdown",
   "metadata": {},
   "source": [
    "## Process Files \n",
    "### Key Variables "
   ]
  },
  {
   "cell_type": "code",
   "execution_count": 422,
   "metadata": {
    "ExecuteTime": {
     "end_time": "2021-11-17T16:41:57.130789Z",
     "start_time": "2021-11-17T16:41:57.071144Z"
    }
   },
   "outputs": [],
   "source": [
    "root_path = \"/home/gaya3/Downloads/Ubuntu WIN10VM/2021-1116 zzbkp zohomail sdsl vra\"\n",
    "dir_sent = \"Sent/\"\n",
    "list_path = []\n",
    "list_ff = []\n",
    "# ff_list_sent = os.listdir(f\"{root_path}{dir_sent}\")\n",
    "\n",
    "\n",
    "\"\"\"used os.walk to parse through sub folders, the outputs, \n",
    "comes as files list per subfolder therefore second nested tor loop needed \"\"\"\n",
    "\" https://stackoverflow.com/questions/2909975/python-list-directory-subdirectory-and-files \"\n",
    "for path, subdirs, ffs in os.walk(root_path):\n",
    "    for name in ffs:\n",
    "        if \".eml\" in name: \n",
    "            list_path.append(path)\n",
    "            list_ff.append(name)\n"
   ]
  },
  {
   "cell_type": "markdown",
   "metadata": {},
   "source": [
    "## Parse .eml and Generate DF "
   ]
  },
  {
   "cell_type": "code",
   "execution_count": 414,
   "metadata": {
    "ExecuteTime": {
     "end_time": "2021-11-17T12:44:54.921606Z",
     "start_time": "2021-11-17T12:44:13.638035Z"
    }
   },
   "outputs": [
    {
     "name": "stderr",
     "output_type": "stream",
     "text": [
      "100%|██████████| 3628/3628 [00:41<00:00, 87.93it/s] \n"
     ]
    }
   ],
   "source": [
    "\n",
    "## define file start and end range \n",
    "fst = 0 \n",
    "fed = 4000\n",
    "fed = min(fed, len(list_ff))\n",
    "\n",
    "## list of fields to parse from .eml , this is manual based on observation of eml file and .fields\n",
    "\n",
    "list_fields = ['Date', 'From', 'To', 'Subject',]\n",
    "list_df_cols = ['file', 'path'] + list_fields\n",
    "list_df =[]\n",
    "\n",
    "\n",
    "\"ref :: https://www.programcreek.com/python/example/2579/email.message_from_file\"\n",
    "\" needed try/ except as message from file failing in some instances need debug \"\n",
    "\" used for in range and then used the num reference on path and file lists \"\n",
    "\n",
    "for num in tqdm(range(fst,fed)):\n",
    "    fp = open(os.path.join(list_path[num], list_ff[num]), \"r\")\n",
    "    try:\n",
    "        msg = email.message_from_file(fp, _class=None, )\n",
    "        list_op = [list_ff[num], list_path[num],]\n",
    "        for lf in list_fields:\n",
    "            list_op.append(msg.get_all(lf)[0])\n",
    "\n",
    "\n",
    "        list_df.append(list_op)\n",
    "    except:\n",
    "        continue\n",
    "        \n",
    "    \n",
    "\"alt ref :: https://stackoverflow.com/questions/26309962/appending-a-list-or-series-to-a-pandas-dataframe-as-a-row\"\n",
    "\n",
    "## converting list of lists into familiar pd.dataframe with col_names \n",
    "df_list = pd.DataFrame(list_df, columns = list_df_cols)\n"
   ]
  },
  {
   "cell_type": "markdown",
   "metadata": {},
   "source": [
    "## Process data Engineer DF "
   ]
  },
  {
   "cell_type": "code",
   "execution_count": 415,
   "metadata": {
    "ExecuteTime": {
     "end_time": "2021-11-17T12:44:54.939000Z",
     "start_time": "2021-11-17T12:44:54.925817Z"
    }
   },
   "outputs": [
    {
     "data": {
      "text/plain": [
       "(3613, 6)"
      ]
     },
     "execution_count": 415,
     "metadata": {},
     "output_type": "execute_result"
    }
   ],
   "source": [
    "df_list.shape"
   ]
  },
  {
   "cell_type": "code",
   "execution_count": 416,
   "metadata": {
    "ExecuteTime": {
     "end_time": "2021-11-17T12:44:55.885651Z",
     "start_time": "2021-11-17T12:44:54.944100Z"
    }
   },
   "outputs": [],
   "source": [
    "## Processing the resultant DF to generate features needed for final alt_file name generation \n",
    "\n",
    "## handling Date field most effort \n",
    "\"\"\"\n",
    "this took maximum time, after a lot of experiment, ended up using parser.parse in a ufunc \n",
    "apply lambda function, \n",
    "\"\"\"\n",
    "df_list['Date'] =  df_list['Date'].replace({ \" +\\(.*$\": \"\"}, regex=True)\n",
    "df_list['Date_new'] =  df_list['Date'].apply(lambda x : str(convert_date_2_string(x)))\n",
    "    \n",
    "\n",
    "    \n",
    "## parsing From and To fields, \n",
    "\"ref :: https://stackoverflow.com/questions/35491274/split-a-pandas-column-of-lists-into-multiple-columns\"\n",
    "\n",
    "\"\"\"\n",
    "this needed some iterations, finally, using multiple strings to split \n",
    "covert to_list and picked only 1 columns to pass into specific columns \n",
    "np.where on x_email  with series to_numpy to check for none and replace with x_name \n",
    "finally clean the output using df.filter and replace \n",
    "\"\"\"\n",
    "\n",
    "df_list[['From_name','From_email']]  = pd.DataFrame(df_list['From'].str.lower().str.split('<|>|\\,|\\;').to_list())[[0,1]]\n",
    "df_list[['To_name','To_email']]  = pd.DataFrame(df_list['To'].str.lower().str.split('<|>|\\,|\\;').to_list())[[0,1]]\n",
    "\n",
    "df_list['To_email'] = np.where(df_list['To_email'].to_numpy() == None, df_list['To_name'], df_list['To_email'] )\n",
    "df_list['From_email'] = np.where(df_list['From_email'].to_numpy() == None, df_list['From_name'], df_list['From_email'] )\n",
    "\n",
    "df_list[list(df_list.filter(regex=\"To_|From_\"))] = df_list.filter(regex=\"To_|From_\").replace({\"(\\>|\\\")\" : \"\", \" \" : \"_\",  }, regex=True)\n",
    "\n",
    "\n",
    "\"\"\"\n",
    "Generate formatted subject col using replace \n",
    "\"\"\"\n",
    "\n",
    "df_list['Sub_fmt']  = df_list['Subject'].replace(\n",
    "    {\"\\w*\\:\": \"\", \"  \" : \" \", \" \": \"_\", \"\\W\" : \"\", \"_+\" : \"_\" },regex=True).str[0:30]\n",
    "\n",
    "\n",
    "\"\"\"\n",
    "Generate alt_file from a str append of multiple columns \n",
    "\"\"\"\n",
    "\n",
    "\n",
    "df_list['alt_file'] = ( (df_list['Date_new']).apply(lambda x : str(x)[0:11])\n",
    "                       + \" \" + df_list['From_email']\n",
    "                       + \" \" + df_list['To_email']\n",
    "                       + \" \" + df_list['Sub_fmt']\n",
    "                       + \" \" + df_list['file']\n",
    "                      )"
   ]
  },
  {
   "cell_type": "code",
   "execution_count": 417,
   "metadata": {
    "ExecuteTime": {
     "end_time": "2021-11-17T12:44:55.914204Z",
     "start_time": "2021-11-17T12:44:55.889785Z"
    }
   },
   "outputs": [
    {
     "data": {
      "text/html": [
       "<div>\n",
       "<style scoped>\n",
       "    .dataframe tbody tr th:only-of-type {\n",
       "        vertical-align: middle;\n",
       "    }\n",
       "\n",
       "    .dataframe tbody tr th {\n",
       "        vertical-align: top;\n",
       "    }\n",
       "\n",
       "    .dataframe thead th {\n",
       "        text-align: right;\n",
       "    }\n",
       "</style>\n",
       "<table border=\"1\" class=\"dataframe\">\n",
       "  <thead>\n",
       "    <tr style=\"text-align: right;\">\n",
       "      <th></th>\n",
       "      <th>file</th>\n",
       "      <th>path</th>\n",
       "      <th>Date</th>\n",
       "      <th>From</th>\n",
       "      <th>To</th>\n",
       "      <th>Subject</th>\n",
       "      <th>Date_new</th>\n",
       "      <th>From_name</th>\n",
       "      <th>From_email</th>\n",
       "      <th>To_name</th>\n",
       "      <th>To_email</th>\n",
       "      <th>Sub_fmt</th>\n",
       "      <th>alt_file</th>\n",
       "    </tr>\n",
       "  </thead>\n",
       "  <tbody>\n",
       "  </tbody>\n",
       "</table>\n",
       "</div>"
      ],
      "text/plain": [
       "Empty DataFrame\n",
       "Columns: [file, path, Date, From, To, Subject, Date_new, From_name, From_email, To_name, To_email, Sub_fmt, alt_file]\n",
       "Index: []"
      ]
     },
     "execution_count": 417,
     "metadata": {},
     "output_type": "execute_result"
    }
   ],
   "source": [
    "## just checking the quality of the alt_file in terms of str len so that there are no name failurees \n",
    "df_list[df_list['alt_file'].str.len() > 200]"
   ]
  },
  {
   "cell_type": "code",
   "execution_count": 418,
   "metadata": {
    "ExecuteTime": {
     "end_time": "2021-11-17T12:44:59.117820Z",
     "start_time": "2021-11-17T12:44:59.004250Z"
    }
   },
   "outputs": [],
   "source": [
    "## saving the dataframe to file \n",
    "df_list.to_csv(f'{root_path}/emails_table_renew.tsv', sep='\\t', index=False)"
   ]
  },
  {
   "cell_type": "markdown",
   "metadata": {},
   "source": [
    "## Use Df to rename eml files "
   ]
  },
  {
   "cell_type": "code",
   "execution_count": 419,
   "metadata": {
    "ExecuteTime": {
     "end_time": "2021-11-17T12:46:28.934350Z",
     "start_time": "2021-11-17T12:46:28.446038Z"
    }
   },
   "outputs": [
    {
     "name": "stderr",
     "output_type": "stream",
     "text": [
      "100%|██████████| 3613/3613 [00:00<00:00, 7680.07it/s]\n"
     ]
    }
   ],
   "source": [
    "## Rename files using os.rename \n",
    "\"ref: https://www.geeksforgeeks.org/rename-multiple-files-using-python/ \"\n",
    "for nn in tqdm(range(df_list['file'].shape[0])):\n",
    "    os.rename(\n",
    "        os.path.join(str(df_list['path'][nn]), str(df_list['file'][nn])), \n",
    "        os.path.join(str(df_list['path'][nn]), str(df_list['alt_file'][nn])), \n",
    "             )"
   ]
  },
  {
   "cell_type": "code",
   "execution_count": 420,
   "metadata": {
    "ExecuteTime": {
     "end_time": "2021-11-17T12:46:45.700182Z",
     "start_time": "2021-11-17T12:46:45.594747Z"
    }
   },
   "outputs": [],
   "source": [
    "df_list.to_csv(f'{root_path}/emails_table.tsv', sep='\\t', index=False)"
   ]
  },
  {
   "cell_type": "markdown",
   "metadata": {},
   "source": [
    "## End of Utility"
   ]
  },
  {
   "cell_type": "code",
   "execution_count": null,
   "metadata": {},
   "outputs": [],
   "source": []
  }
 ],
 "metadata": {
  "kernelspec": {
   "display_name": "vish 3.7",
   "language": "python",
   "name": "vish"
  },
  "language_info": {
   "codemirror_mode": {
    "name": "ipython",
    "version": 3
   },
   "file_extension": ".py",
   "mimetype": "text/x-python",
   "name": "python",
   "nbconvert_exporter": "python",
   "pygments_lexer": "ipython3",
   "version": "3.7.10"
  },
  "toc": {
   "base_numbering": 1,
   "nav_menu": {},
   "number_sections": true,
   "sideBar": true,
   "skip_h1_title": false,
   "title_cell": "Table of Contents",
   "title_sidebar": "Contents",
   "toc_cell": false,
   "toc_position": {},
   "toc_section_display": true,
   "toc_window_display": false
  }
 },
 "nbformat": 4,
 "nbformat_minor": 2
}
